{
 "cells": [
  {
   "cell_type": "markdown",
   "id": "a40f997c-98f8-40b4-a11a-81b26a64bf7a",
   "metadata": {},
   "source": [
    "# Using Google Play Scraper to get reviews"
   ]
  },
  {
   "cell_type": "code",
   "execution_count": null,
   "id": "f7d4bf4d-de2e-4dfa-8cbe-5fe5ad1e438a",
   "metadata": {},
   "outputs": [],
   "source": [
    "def write_review_to_txt(review_txt, file_path=\"./review_testgame.txt\", delimiter=\"---END_SNIPPET---\"):\n",
    "    if review_txt is None:\n",
    "        print(\"Trying to write empty review\")\n",
    "        return False\n",
    "    try:\n",
    "        with open(file_path, \"a\") as f:\n",
    "            f.write(f\"\\n\\n{review_txt}\\n\\n{delimiter}\")\n",
    "    except Exception as E:\n",
    "        print(f\"Error writing review to file: {e}\")\n",
    "        return False\n",
    "    return True\n",
    "  "
   ]
  },
  {
   "cell_type": "code",
   "execution_count": null,
   "id": "b51cc3ae-b9dd-4bfa-b9ca-cda18720da55",
   "metadata": {},
   "outputs": [],
   "source": [
    "from google_play_scraper import Sort, reviews\n",
    "\n",
    "def get_reviews(game_id='com.scopely.monopolygo', file_name='monopoloygo_reviews.txt', num_reviews=100, score=None):\n",
    "\n",
    "    review_count = 0\n",
    "    \n",
    "    results, continuation_token = reviews(\n",
    "        game_id,\n",
    "        lang='en', # defaults to 'en'\n",
    "        country='us', # defaults to 'us'\n",
    "        sort=Sort.NEWEST, # defaults to Sort.NEWEST\n",
    "        count=num_reviews, # defaults to 100\n",
    "        filter_score_with=score # defaults to None(means all score)\n",
    "    )\n",
    "   \n",
    "# If you pass `continuation_token` as an argument to the reviews function at this point,\n",
    "# it will crawl the items after the count review items\n",
    "\n",
    "#result, _ = reviews(\n",
    "#    'com.fantome.penguinisle',\n",
    "#    continuation_token=continuation_token # defaults to None(load from the beginning)\n",
    "#)\n",
    "\n",
    "    for result in results:\n",
    "        review_count += 1\n",
    "        review = result.get(\"content\")\n",
    "        worked = write_review_to_txt(review, file_name)\n",
    "        if worked:\n",
    "            print(f\"Review {review_count} written\")\n",
    "        else:\n",
    "            print(f\"ERROR: review {review_count} NOT written\")\n",
    "  "
   ]
  },
  {
   "cell_type": "code",
   "execution_count": null,
   "id": "b3fe06c8-7e1d-4c1b-885c-3b6af745cbdd",
   "metadata": {},
   "outputs": [],
   "source": [
    "get_reviews('com.activision.callofduty.shooter', './cod_reviews.txt', 200)"
   ]
  },
  {
   "cell_type": "code",
   "execution_count": null,
   "id": "c9c25ed6-9e0c-4912-80ac-361618120712",
   "metadata": {},
   "outputs": [],
   "source": []
  }
 ],
 "metadata": {
  "kernelspec": {
   "display_name": "Python 3 (ipykernel)",
   "language": "python",
   "name": "python3"
  },
  "language_info": {
   "codemirror_mode": {
    "name": "ipython",
    "version": 3
   },
   "file_extension": ".py",
   "mimetype": "text/x-python",
   "name": "python",
   "nbconvert_exporter": "python",
   "pygments_lexer": "ipython3",
   "version": "3.11.9"
  }
 },
 "nbformat": 4,
 "nbformat_minor": 5
}
